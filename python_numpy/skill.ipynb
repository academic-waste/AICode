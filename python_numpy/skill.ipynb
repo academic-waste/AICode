{
 "cells": [
  {
   "cell_type": "markdown",
   "id": "34571a84-a6eb-4993-bd86-1793a9440dd4",
   "metadata": {},
   "source": [
    "1. 花式索引 Fancy indexing"
   ]
  },
  {
   "cell_type": "code",
   "execution_count": 5,
   "id": "0924727f-02a5-43e7-bc36-93578c2664a1",
   "metadata": {},
   "outputs": [
    {
     "name": "stdout",
     "output_type": "stream",
     "text": [
      "[1 5 9]\n"
     ]
    }
   ],
   "source": [
    "import numpy\n",
    "a = numpy.array([[1,2,3],[4,5,6],[7,8,9]])\n",
    "b = a[[0,1,2],[0,1,2]]\n",
    "print(b)"
   ]
  },
  {
   "cell_type": "code",
   "execution_count": 7,
   "id": "a5652bcf-d4cd-46cf-81e7-ed205fa59457",
   "metadata": {},
   "outputs": [
    {
     "name": "stdout",
     "output_type": "stream",
     "text": [
      "[[1 2 3]\n",
      " [4 5 0]\n",
      " [0 0 0]]\n"
     ]
    }
   ],
   "source": [
    "b = a.copy()\n",
    "b[b>5]=0\n",
    "print(b)"
   ]
  },
  {
   "cell_type": "markdown",
   "id": "03a67a22-592d-4a27-bcc0-dd49148b09e8",
   "metadata": {},
   "source": [
    "2. 交换"
   ]
  },
  {
   "cell_type": "code",
   "execution_count": 189,
   "id": "97eaccc1-4fa5-4958-abf3-2851e9ca832e",
   "metadata": {},
   "outputs": [
    {
     "name": "stdout",
     "output_type": "stream",
     "text": [
      "7 5 6\n"
     ]
    }
   ],
   "source": [
    "x = 5\n",
    "y = 6\n",
    "z = 7\n",
    "x, y, z = z, x, y\n",
    "print(x,y,z)"
   ]
  },
  {
   "cell_type": "markdown",
   "id": "059af007-bd64-401b-83fa-10ee77108511",
   "metadata": {},
   "source": [
    "3. 三目运算"
   ]
  },
  {
   "cell_type": "code",
   "execution_count": 14,
   "id": "07139d73-d79f-4226-8d97-d561d3e47925",
   "metadata": {},
   "outputs": [
    {
     "name": "stdout",
     "output_type": "stream",
     "text": [
      "True\n"
     ]
    }
   ],
   "source": [
    "outStr = \"True\" if True else \"False\"\n",
    "print(outStr)"
   ]
  },
  {
   "cell_type": "markdown",
   "id": "eb62cd32-c1bb-44ea-91dd-71bd436ce3fe",
   "metadata": {},
   "source": [
    "4. 链式比较"
   ]
  },
  {
   "cell_type": "code",
   "execution_count": 186,
   "id": "0229af02-802a-4d9b-aa87-2ec06802189b",
   "metadata": {},
   "outputs": [
    {
     "name": "stdout",
     "output_type": "stream",
     "text": [
      "2\n",
      "2\n"
     ]
    }
   ],
   "source": [
    "x = 2\n",
    "if 4 > x > 1:\n",
    "   print(x)\n",
    "if 1 < x > 0:\n",
    "   print(x)"
   ]
  },
  {
   "cell_type": "markdown",
   "id": "b90a584f-d5ac-4665-9933-8e90e3be0fdb",
   "metadata": {},
   "source": [
    "5. 拆包 unpack"
   ]
  },
  {
   "cell_type": "code",
   "execution_count": 234,
   "id": "efbeea23-af2c-45c0-9d3c-be8b34b08826",
   "metadata": {},
   "outputs": [
    {
     "name": "stdout",
     "output_type": "stream",
     "text": [
      "1 2 3\n",
      "1 2 3\n",
      "1 2 3\n",
      "1 2 3\n",
      "(1, 2, 3)\n"
     ]
    }
   ],
   "source": [
    "a,b,c = [1,2,3]\n",
    "print(a,b,c)\n",
    "\n",
    "a,b,c = (1,2,3)\n",
    "print(a,b,c)\n",
    "\n",
    "a,b,c = \"123\"\n",
    "print(a,b,c)\n",
    "\n",
    "a,b,c = 1,2,3\n",
    "print(a,b,c)\n",
    "\n",
    "a = 1,2,3\n",
    "print(a)"
   ]
  },
  {
   "cell_type": "code",
   "execution_count": 236,
   "id": "3e732330-f5e0-459b-adc6-2a663b32f21c",
   "metadata": {},
   "outputs": [
    {
     "name": "stdout",
     "output_type": "stream",
     "text": [
      "2 3\n"
     ]
    }
   ],
   "source": [
    "def func():\n",
    "    return 2,3\n",
    "    \n",
    "a ,b= func()\n",
    "\n",
    "print(a,b)"
   ]
  },
  {
   "cell_type": "code",
   "execution_count": 48,
   "id": "dc06892e-cd50-4f43-8f97-e76e9820b934",
   "metadata": {},
   "outputs": [
    {
     "name": "stdout",
     "output_type": "stream",
     "text": [
      "50 50 50\n"
     ]
    }
   ],
   "source": [
    "a = b = c = 50\n",
    "print(a,b,c)\n"
   ]
  },
  {
   "cell_type": "code",
   "execution_count": 69,
   "id": "b71d0548-6ff6-4951-9aa9-c6edcd43646d",
   "metadata": {},
   "outputs": [
    {
     "ename": "ValueError",
     "evalue": "too many values to unpack (expected 3)",
     "output_type": "error",
     "traceback": [
      "\u001b[0;31m---------------------------------------------------------------------------\u001b[0m",
      "\u001b[0;31mValueError\u001b[0m                                Traceback (most recent call last)",
      "Cell \u001b[0;32mIn[69], line 1\u001b[0m\n\u001b[0;32m----> 1\u001b[0m a, b, c \u001b[38;5;241m=\u001b[39m [\u001b[38;5;241m1\u001b[39m,\u001b[38;5;241m2\u001b[39m,\u001b[38;5;241m3\u001b[39m,\u001b[38;5;241m4\u001b[39m]\n\u001b[1;32m      2\u001b[0m \u001b[38;5;28mprint\u001b[39m(a,b,c)\n",
      "\u001b[0;31mValueError\u001b[0m: too many values to unpack (expected 3)"
     ]
    }
   ],
   "source": [
    "a, b, c = [1,2,3,4]\n",
    "print(a,b,c)"
   ]
  },
  {
   "cell_type": "code",
   "execution_count": null,
   "id": "65b47bd0-240c-4ddf-afd8-08ff9cd364dc",
   "metadata": {},
   "outputs": [],
   "source": [
    "def func"
   ]
  },
  {
   "cell_type": "code",
   "execution_count": 215,
   "id": "30ce2cd3-93d8-447d-9942-2aabb286a570",
   "metadata": {},
   "outputs": [
    {
     "name": "stdout",
     "output_type": "stream",
     "text": [
      "1 3\n",
      "2\n"
     ]
    }
   ],
   "source": [
    "a,_,c = 1,2,3\n",
    "print(a,c)\n",
    "print(_)"
   ]
  },
  {
   "cell_type": "code",
   "execution_count": 239,
   "id": "393a6041-8369-4eac-93e2-528ed535768d",
   "metadata": {},
   "outputs": [
    {
     "name": "stdout",
     "output_type": "stream",
     "text": [
      "1 2 [3, 4]\n",
      "1 [2, 3] 4\n",
      "1 3 3 4\n"
     ]
    }
   ],
   "source": [
    "a, b, *c = [1,2,3,4]\n",
    "print(a,b,c)\n",
    "\n",
    "a, *b, c = (1,2,3,4)\n",
    "print(a,b,c)\n",
    "\n",
    "a, *_, _, c = [1,2,3,4]\n",
    "print(a,_,_,c)"
   ]
  },
  {
   "cell_type": "code",
   "execution_count": 188,
   "id": "746bad4f-8565-4527-af33-8c5552b7d8b0",
   "metadata": {},
   "outputs": [
    {
     "name": "stdout",
     "output_type": "stream",
     "text": [
      "1 2 3\n",
      "1 2 3\n",
      "1 2 3\n",
      "a b c\n",
      "1 3 2\n"
     ]
    }
   ],
   "source": [
    "def func(a,b,c):\n",
    "    print(a,b,c)\n",
    "\n",
    "func(1,2,3)\n",
    "func(*[1,2,3])\n",
    "func(*(1,2,3))\n",
    "func(*{\"a\":1,\"b\":2,\"c\":3})\n",
    "func(**{\"a\":1,\"c\":2,\"b\":3})"
   ]
  },
  {
   "cell_type": "code",
   "execution_count": 202,
   "id": "6b7d7f44-7573-402a-8140-150c6a652f0c",
   "metadata": {},
   "outputs": [
    {
     "data": {
      "text/plain": [
       "{'a': 1, 'b': 3, 'd': 4}"
      ]
     },
     "execution_count": 202,
     "metadata": {},
     "output_type": "execute_result"
    }
   ],
   "source": [
    "a = {\"a\":1, \"b\":2}\n",
    "b = {\"b\":3, \"d\":4}\n",
    "{**a, **b}"
   ]
  },
  {
   "cell_type": "code",
   "execution_count": 221,
   "id": "981710ad-1aa2-46e0-b5d5-ccbbb37f3792",
   "metadata": {},
   "outputs": [
    {
     "name": "stdout",
     "output_type": "stream",
     "text": [
      "<class 'dict'> {'one': 1, 'two': 2}\n",
      "<class 'dict'> {'one': 1, 'two': 2}\n",
      "3\n"
     ]
    }
   ],
   "source": [
    "def pack_test(a, b, **x):\n",
    "    print(type(x), x)\n",
    "\n",
    "def pack_test1(a, b, x):\n",
    "    print(type(x), x)\n",
    "    \n",
    "pack_test(0, 0, one=1, two=2)\n",
    "pack_test1(0, 0, dict(one=1, two=2))\n",
    "\n",
    "def sum(a, b):\n",
    "    return a + b\n",
    "\n",
    "def f(**x):\n",
    "    result = sum(**x)\n",
    "    print(result)\n",
    "\n",
    "f(a=1, b=2)"
   ]
  },
  {
   "cell_type": "code",
   "execution_count": 134,
   "id": "a9f018e9-7039-41db-beda-1728d61aa6ee",
   "metadata": {},
   "outputs": [
    {
     "name": "stdout",
     "output_type": "stream",
     "text": [
      "<class 'tuple'> (1, 2, 3)\n",
      "1 2 3\n",
      "<class 'tuple'> (1, 2, 3)\n",
      "1 2 3\n"
     ]
    }
   ],
   "source": [
    "def f_withoutstar(a, b, args):\n",
    "    print(type(args), args)\n",
    "    print(*args)\n",
    " \n",
    "def f_withstar(a, b, *args):\n",
    "    print(type(args), args)\n",
    "    print(*args)\n",
    "\n",
    "f_withoutstar(0, 0, (1, 2, 3))\n",
    "f_withstar(0, 0, 1, 2, 3)"
   ]
  },
  {
   "cell_type": "markdown",
   "id": "4c301d2a-4295-4e0c-9723-07c48eea2bca",
   "metadata": {},
   "source": [
    "6. for/esle"
   ]
  },
  {
   "cell_type": "code",
   "execution_count": 240,
   "id": "25f6bdd3-4609-4d57-881b-3b024a0f65db",
   "metadata": {},
   "outputs": [],
   "source": [
    "foo=[1,2,3,4,5]\n",
    "for i in foo:\n",
    "    if i == 1:\n",
    "        break\n",
    "else:\n",
    "    print(\"未发现\")\n",
    "\n",
    " "
   ]
  },
  {
   "cell_type": "code",
   "execution_count": 241,
   "id": "8252599c-208d-4f64-9835-905992797616",
   "metadata": {},
   "outputs": [
    {
     "name": "stdout",
     "output_type": "stream",
     "text": [
      "Loop completed. Sum = 15\n"
     ]
    }
   ],
   "source": [
    "num = 1\n",
    "sum_result = 0\n",
    " \n",
    "# While loop to calculate the sum\n",
    "while num <= 5:\n",
    "    sum_result += num\n",
    "    num += 1\n",
    "else:\n",
    "    print(\"Loop completed. Sum =\", sum_result)"
   ]
  },
  {
   "cell_type": "code",
   "execution_count": 218,
   "id": "a1f7ec87-1f61-4389-b258-941afa4559b3",
   "metadata": {},
   "outputs": [
    {
     "name": "stdout",
     "output_type": "stream",
     "text": [
      "0 1\n",
      "1 2\n",
      "2 3\n",
      "3 4\n",
      "4 5\n"
     ]
    }
   ],
   "source": [
    "for i, x in enumerate(foo):\n",
    "    print(i, x)"
   ]
  },
  {
   "cell_type": "code",
   "execution_count": 77,
   "id": "274a8e31-d3eb-47ef-911f-0971958fab8d",
   "metadata": {},
   "outputs": [
    {
     "name": "stdout",
     "output_type": "stream",
     "text": [
      "[(0, 1), (1, 2), (2, 3), (3, 4), (4, 5)]\n",
      "[(1, 1), (2, 2), (3, 3), (4, 4), (5, 5)]\n"
     ]
    }
   ],
   "source": [
    "print(list(enumerate(foo)))\n",
    "print(list(enumerate(foo, 1)))\n"
   ]
  },
  {
   "cell_type": "code",
   "execution_count": 246,
   "id": "e63b4715-d653-4e88-a840-186fcece883f",
   "metadata": {},
   "outputs": [
    {
     "name": "stdout",
     "output_type": "stream",
     "text": [
      "[(1, 4), (2, 5), (3, 6)]\n",
      "<class 'zip'>\n",
      "(1, 2, 3) (4, 5, 6)\n"
     ]
    }
   ],
   "source": [
    "a = [1,2,3]\n",
    "b = [4,5,6]\n",
    "print(list(zip(a,b)))\n",
    "a1,a2 =zip(*zip(a,b))\n",
    "print(a1,a2)\n"
   ]
  },
  {
   "cell_type": "code",
   "execution_count": 200,
   "id": "d0c05d29-ace9-4df2-91f3-019c3b31919a",
   "metadata": {},
   "outputs": [
    {
     "name": "stdout",
     "output_type": "stream",
     "text": [
      "[(1, 4, 7), (2, 5, 8), (3, 6, 9)]\n",
      "(1, 2, 3) (4, 5, 6) (7, 8, 9)\n"
     ]
    }
   ],
   "source": [
    "a = [1,2,3]\n",
    "b = [4,5,6]\n",
    "c = [7,8,9]\n",
    "print(list(zip(a,b,c)))\n",
    "a1,a2,a3 =zip(*zip(a,b,c))\n",
    "print(a1,a2,a3)\n"
   ]
  },
  {
   "cell_type": "markdown",
   "id": "0acaa5f8-a234-485f-9250-64762e05b19d",
   "metadata": {},
   "source": [
    "7. list"
   ]
  },
  {
   "cell_type": "code",
   "execution_count": 233,
   "id": "b4fcdf90-372c-4f36-a456-27c259450a80",
   "metadata": {},
   "outputs": [
    {
     "name": "stdout",
     "output_type": "stream",
     "text": [
      "[5, 4, 3, 2, 1]\n",
      "[5, 3, 1]\n"
     ]
    }
   ],
   "source": [
    "a = [1,2,3,4,5]\n",
    "print(a[::-1])\n",
    "print(a[::-2])"
   ]
  },
  {
   "cell_type": "code",
   "execution_count": 192,
   "id": "a0e6aaf7-3235-4c8e-98c4-2540d2815c82",
   "metadata": {},
   "outputs": [
    {
     "name": "stdout",
     "output_type": "stream",
     "text": [
      "[1, 3, 5]\n",
      "[2, 3]\n"
     ]
    }
   ],
   "source": [
    "print(a[0:5:2])\n",
    "print(a[1:3])"
   ]
  },
  {
   "cell_type": "code",
   "execution_count": 193,
   "id": "08be70e4-8fa1-4377-91ed-d3f68b08c534",
   "metadata": {},
   "outputs": [
    {
     "name": "stdout",
     "output_type": "stream",
     "text": [
      "False\n",
      "True\n",
      "[1, 2, 3, 4, 5, 1, 2, 3, 4, 5]\n"
     ]
    },
    {
     "data": {
      "text/plain": [
       "[2, 4, 6, 8, 10]"
      ]
     },
     "execution_count": 193,
     "metadata": {},
     "output_type": "execute_result"
    }
   ],
   "source": [
    "print(9 in a)\n",
    "print(9 not in a)\n",
    "print(a * 2)\n",
    "import numpy as np\n",
    "list(np.array(a) * 2)"
   ]
  },
  {
   "cell_type": "code",
   "execution_count": null,
   "id": "e5c370f3-dbcd-4bf3-bb1e-9b0f4f74441c",
   "metadata": {},
   "outputs": [],
   "source": [
    "python3 -m http.server"
   ]
  },
  {
   "cell_type": "markdown",
   "id": "36e738ac-d0d9-4190-a4a6-b032f9d92d7a",
   "metadata": {},
   "source": [
    "8. itertools"
   ]
  },
  {
   "cell_type": "code",
   "execution_count": 107,
   "id": "19869d2c-be34-48fc-a935-75fd4ee0d82f",
   "metadata": {},
   "outputs": [
    {
     "name": "stdout",
     "output_type": "stream",
     "text": [
      "g\n",
      "o\n",
      "o\n",
      "d\n",
      "b\n",
      "y\n",
      "e\n",
      "a\n",
      "l\n",
      "l\n"
     ]
    }
   ],
   "source": [
    "import itertools\n",
    "for i in itertools.chain('good','bye','all'):\n",
    "    print(i)"
   ]
  },
  {
   "cell_type": "code",
   "execution_count": 110,
   "id": "7ac4c176-5759-4fff-bf88-f34e653ab6ed",
   "metadata": {},
   "outputs": [
    {
     "name": "stdout",
     "output_type": "stream",
     "text": [
      "A C "
     ]
    }
   ],
   "source": [
    "a = 'ABCDEFG'\n",
    "b = [1,0,1]\n",
    "c = itertools.compress(a, b)\n",
    "for i in c:\n",
    "    print(i, end=' ')   # A B E"
   ]
  },
  {
   "cell_type": "code",
   "execution_count": 111,
   "id": "18c7dcec-5862-429b-8af1-13834f760074",
   "metadata": {},
   "outputs": [
    {
     "name": "stdout",
     "output_type": "stream",
     "text": [
      "5 6 7 8 9 \n",
      "1 2 3 4 5 6 7 8 9 "
     ]
    }
   ],
   "source": [
    "a = [1,2,3,4,5,6,7,8,9]\n",
    "b = itertools.dropwhile(lambda x: x<5, a)\n",
    "c = itertools.dropwhile(lambda x: x>5, a)\n",
    "for i in b:\n",
    "    print(i, end=' ')    # 5 6 7 8 9\n",
    "print()\n",
    "for i in c:\n",
    "    print(i, end=' ')    # 1 2 3 4 5 6 7 8 9"
   ]
  },
  {
   "cell_type": "code",
   "execution_count": 112,
   "id": "d48bfe39-f610-4098-8cbb-54d51b64511e",
   "metadata": {},
   "outputs": [
    {
     "name": "stdout",
     "output_type": "stream",
     "text": [
      "('a', 'b', 'c')\n",
      "('a', 'c', 'b')\n",
      "('b', 'a', 'c')\n",
      "('b', 'c', 'a')\n",
      "('c', 'a', 'b')\n",
      "('c', 'b', 'a')\n"
     ]
    }
   ],
   "source": [
    "a = 'abc'\n",
    "r = itertools.permutations(a)\n",
    "for i in r:\n",
    "    print(i)"
   ]
  },
  {
   "cell_type": "code",
   "execution_count": 114,
   "id": "c32acef7-0f75-4868-aa6e-4ab9a3cd7fcd",
   "metadata": {},
   "outputs": [
    {
     "name": "stdout",
     "output_type": "stream",
     "text": [
      "('a', 'b', 'c')\n",
      "('a', 'b', 'd')\n",
      "('a', 'b', 'e')\n",
      "('a', 'c', 'd')\n",
      "('a', 'c', 'e')\n",
      "('a', 'd', 'e')\n",
      "('b', 'c', 'd')\n",
      "('b', 'c', 'e')\n",
      "('b', 'd', 'e')\n",
      "('c', 'd', 'e')\n"
     ]
    }
   ],
   "source": [
    "a = 'abcde'\n",
    "r = itertools.combinations(a,3)\n",
    "for i in r:\n",
    "    print(i)"
   ]
  },
  {
   "cell_type": "markdown",
   "id": "a56c66a5-165f-4e13-8b03-f979c9e4c4be",
   "metadata": {},
   "source": [
    "9. match case"
   ]
  },
  {
   "cell_type": "code",
   "execution_count": 123,
   "id": "36cd232f-9101-47d0-818f-f19e0d73600b",
   "metadata": {},
   "outputs": [
    {
     "name": "stdout",
     "output_type": "stream",
     "text": [
      "Forbidden\n",
      "Unknown status code\n"
     ]
    }
   ],
   "source": [
    "def http_error(status):\n",
    "    match status:\n",
    "        case 400:\n",
    "            return 'Bad request'\n",
    "        case 401:\n",
    "            return 'Unauthorized'\n",
    "        case 403:\n",
    "            return 'Forbidden'\n",
    "        case 404:\n",
    "            return 'Not found'\n",
    "        case _:\n",
    "            return 'Unknown status code'\n",
    "\n",
    "print(http_error(403))\n",
    "print(http_error(500))"
   ]
  },
  {
   "cell_type": "code",
   "execution_count": 122,
   "id": "a3b5e917-0d19-44df-8399-aea5883dae20",
   "metadata": {},
   "outputs": [
    {
     "name": "stdout",
     "output_type": "stream",
     "text": [
      "Got 1 and 2\n",
      "Got 1 and a nested sequence: x=2, others=[3]\n",
      "x=1, y=2, z=3\n"
     ]
    }
   ],
   "source": [
    "def sequence(collection):\n",
    "     match collection:\n",
    "         case 1, [x, *others]:\n",
    "             print(f\"Got 1 and a nested sequence: {x=}, {others=}\")\n",
    "         case (1, x):\n",
    "             print(f\"Got 1 and {x}\")\n",
    "         case [x, y, z]:\n",
    "             print(f\"{x=}, {y=}, {z=}\")\n",
    "\n",
    "sequence([1, 2])\n",
    "sequence([1, [2, 3]])\n",
    "sequence([1, 2, 3])"
   ]
  },
  {
   "cell_type": "code",
   "execution_count": 121,
   "id": "15ae7ea4-91a4-4330-a791-8f31974bdb97",
   "metadata": {},
   "outputs": [
    {
     "name": "stdout",
     "output_type": "stream",
     "text": [
      "matches any sequence of length two or more that starts with \"a\" and ends with \"z\".\n",
      "matches any sequence of length two or more.\n",
      "matches a sequence of any length.\n"
     ]
    }
   ],
   "source": [
    "def sequence2(collection):\n",
    "     match collection:\n",
    "         case [\"a\", *_, \"z\"]:\n",
    "             print('matches any sequence of length two or more that starts with \"a\" and ends with \"z\".')\n",
    "         case (_, _, *_):\n",
    "             print('matches any sequence of length two or more.')\n",
    "         case [*_]:\n",
    "             print('matches a sequence of any length.')\n",
    "\n",
    "sequence2(['a', 2, 3, 'z'])\n",
    "sequence2(['a', 2, 3, 'b'])\n",
    "sequence2(['a'])"
   ]
  }
 ],
 "metadata": {
  "kernelspec": {
   "display_name": "Python 3 (ipykernel)",
   "language": "python",
   "name": "python3"
  },
  "language_info": {
   "codemirror_mode": {
    "name": "ipython",
    "version": 3
   },
   "file_extension": ".py",
   "mimetype": "text/x-python",
   "name": "python",
   "nbconvert_exporter": "python",
   "pygments_lexer": "ipython3",
   "version": "3.11.7"
  }
 },
 "nbformat": 4,
 "nbformat_minor": 5
}
