{
 "cells": [
  {
   "cell_type": "markdown",
   "id": "679e2cdd-d031-41d7-a7d8-51822746da8d",
   "metadata": {},
   "source": [
    "1. broadcasting"
   ]
  },
  {
   "cell_type": "code",
   "execution_count": 116,
   "id": "f06e2d17-c18d-4ff5-86c6-68b32618c6e3",
   "metadata": {},
   "outputs": [
    {
     "name": "stdout",
     "output_type": "stream",
     "text": [
      "a's ndim 2\n",
      "a's shape (2, 3)\n",
      "a's size 6\n",
      "[[2 3 4]\n",
      " [3 4 5]\n",
      " [4 5 6]]\n"
     ]
    }
   ],
   "source": [
    "import numpy as np\n",
    "\n",
    "matrix = np.array([[1, 2, 3], \n",
    "             \t\t[4, 5, 7]])\n",
    "print(\"a's ndim {}\".format(matrix.ndim))\n",
    "print(\"a's shape {}\".format(matrix.shape))\n",
    "print(\"a's size {}\".format(matrix.size))\n",
    "\n",
    "# create 1-D array\n",
    "array1 = np.array([1, 2, 3])\n",
    "\n",
    "# create 2-D array\n",
    "array2 = np.array([[1], \n",
    "                   [2], \n",
    "                   [3]])\n",
    "\n",
    "# add arrays of different dimension\n",
    "# size of array1 expands to match with array2\n",
    "sum = array1 + array2\n",
    "\n",
    "print(sum)"
   ]
  },
  {
   "cell_type": "markdown",
   "id": "9d3d35b0-581b-49c3-8fe3-6e7a5fb9e4fa",
   "metadata": {},
   "source": [
    "2. matrix operation"
   ]
  },
  {
   "cell_type": "code",
   "execution_count": 2,
   "id": "29ff9cb5-5e20-4fa0-ac25-089179399b8f",
   "metadata": {},
   "outputs": [
    {
     "name": "stdout",
     "output_type": "stream",
     "text": [
      "matrix1 x matrix2: \n",
      " [[14 30]\n",
      " [38 86]]\n"
     ]
    }
   ],
   "source": [
    "matrix1 = np.array([[1, 3], \n",
    "             \t\t[5, 7]])\n",
    "             \n",
    "matrix2 = np.array([[2, 6], \n",
    "                    [4, 8]])\n",
    "\n",
    "# calculate the dot product of the two matrices\n",
    "result = np.dot(matrix1, matrix2)\n",
    "\n",
    "print(\"matrix1 x matrix2: \\n\",result)"
   ]
  },
  {
   "cell_type": "code",
   "execution_count": 5,
   "id": "406392d4-06db-4b50-bd13-0cf1de319617",
   "metadata": {},
   "outputs": [
    {
     "name": "stdout",
     "output_type": "stream",
     "text": [
      "matrix1 x matrix2: \n",
      " [[14 30]\n",
      " [38 86]]\n",
      "matrix1 x matrix2: \n",
      " [[14 30]\n",
      " [38 86]]\n"
     ]
    }
   ],
   "source": [
    "result = np.matmul(matrix1, matrix2)\n",
    "\n",
    "print(\"matrix1 x matrix2: \\n\",result)\n",
    "\n",
    "result = matrix1 @ matrix2\n",
    "\n",
    "print(\"matrix1 x matrix2: \\n\",result)"
   ]
  },
  {
   "cell_type": "code",
   "execution_count": 4,
   "id": "c1649843-9123-428a-8608-49edb2263ad9",
   "metadata": {},
   "outputs": [
    {
     "name": "stdout",
     "output_type": "stream",
     "text": [
      "result: \n",
      " [[ 2  6]\n",
      " [10 14]]\n"
     ]
    }
   ],
   "source": [
    "result = 2 * matrix1\n",
    "\n",
    "print(\"result: \\n\",result)"
   ]
  },
  {
   "cell_type": "code",
   "execution_count": 117,
   "id": "7cde7ea4-c2e3-41a0-b29a-24dab6575892",
   "metadata": {},
   "outputs": [
    {
     "name": "stdout",
     "output_type": "stream",
     "text": [
      "[[1 5]\n",
      " [3 7]]\n"
     ]
    },
    {
     "data": {
      "text/plain": [
       "(3, 1, 2)"
      ]
     },
     "execution_count": 117,
     "metadata": {},
     "output_type": "execute_result"
    }
   ],
   "source": [
    "# create a matrix\n",
    "matrix1 = np.array([[1, 3], \n",
    "             \t\t[5, 7]])\n",
    "\n",
    "# get transpose of matrix1\n",
    "result = np.transpose(matrix1)\n",
    "\n",
    "print(result)\n",
    "\n",
    "a = np.ones((1, 2, 3))\n",
    "np.transpose(a, (2, 0, 1)).shape"
   ]
  },
  {
   "cell_type": "code",
   "execution_count": 115,
   "id": "51be4693-1eae-417d-b935-02ef6774e68d",
   "metadata": {},
   "outputs": [
    {
     "name": "stdout",
     "output_type": "stream",
     "text": [
      "Flattened 2x3 matrix: [1 2 3 4 5 7]\n",
      "[[1 2 3]\n",
      " [4 5 7]]\n"
     ]
    }
   ],
   "source": [
    "# create a 2x3 matrix\n",
    "matrix1 = np.array([[1, 2, 3], \n",
    "             \t\t[4, 5, 7]])\n",
    "\n",
    "result = matrix1.flatten()\n",
    "print(\"Flattened 2x3 matrix:\", result)\n",
    "print(matrix1)"
   ]
  },
  {
   "cell_type": "code",
   "execution_count": 132,
   "id": "818ed225-7311-4a2e-858b-b4e0a76794e7",
   "metadata": {},
   "outputs": [
    {
     "ename": "TypeError",
     "evalue": "'<' not supported between instances of 'NoneType' and 'int'",
     "output_type": "error",
     "traceback": [
      "\u001b[0;31m---------------------------------------------------------------------------\u001b[0m",
      "\u001b[0;31mTypeError\u001b[0m                                 Traceback (most recent call last)",
      "Cell \u001b[0;32mIn[132], line 5\u001b[0m\n\u001b[1;32m      2\u001b[0m B \u001b[38;5;241m=\u001b[39m np\u001b[38;5;241m.\u001b[39marray([\u001b[38;5;241m0\u001b[39m, \u001b[38;5;241m2\u001b[39m, \u001b[38;5;241m3\u001b[39m, \u001b[38;5;28;01mNone\u001b[39;00m])\n\u001b[1;32m      4\u001b[0m \u001b[38;5;66;03m# union of two arrays\u001b[39;00m\n\u001b[0;32m----> 5\u001b[0m result \u001b[38;5;241m=\u001b[39m np\u001b[38;5;241m.\u001b[39munion1d(A, B)\n\u001b[1;32m      7\u001b[0m \u001b[38;5;28mprint\u001b[39m(result)\n",
      "File \u001b[0;32m/opt/anaconda3/lib/python3.11/site-packages/numpy/lib/arraysetops.py:932\u001b[0m, in \u001b[0;36munion1d\u001b[0;34m(ar1, ar2)\u001b[0m\n\u001b[1;32m    898\u001b[0m \u001b[38;5;129m@array_function_dispatch\u001b[39m(_union1d_dispatcher)\n\u001b[1;32m    899\u001b[0m \u001b[38;5;28;01mdef\u001b[39;00m \u001b[38;5;21munion1d\u001b[39m(ar1, ar2):\n\u001b[1;32m    900\u001b[0m \u001b[38;5;250m    \u001b[39m\u001b[38;5;124;03m\"\"\"\u001b[39;00m\n\u001b[1;32m    901\u001b[0m \u001b[38;5;124;03m    Find the union of two arrays.\u001b[39;00m\n\u001b[1;32m    902\u001b[0m \n\u001b[0;32m   (...)\u001b[0m\n\u001b[1;32m    930\u001b[0m \u001b[38;5;124;03m    array([1, 2, 3, 4, 6])\u001b[39;00m\n\u001b[1;32m    931\u001b[0m \u001b[38;5;124;03m    \"\"\"\u001b[39;00m\n\u001b[0;32m--> 932\u001b[0m     \u001b[38;5;28;01mreturn\u001b[39;00m unique(np\u001b[38;5;241m.\u001b[39mconcatenate((ar1, ar2), axis\u001b[38;5;241m=\u001b[39m\u001b[38;5;28;01mNone\u001b[39;00m))\n",
      "File \u001b[0;32m/opt/anaconda3/lib/python3.11/site-packages/numpy/lib/arraysetops.py:274\u001b[0m, in \u001b[0;36munique\u001b[0;34m(ar, return_index, return_inverse, return_counts, axis, equal_nan)\u001b[0m\n\u001b[1;32m    272\u001b[0m ar \u001b[38;5;241m=\u001b[39m np\u001b[38;5;241m.\u001b[39masanyarray(ar)\n\u001b[1;32m    273\u001b[0m \u001b[38;5;28;01mif\u001b[39;00m axis \u001b[38;5;129;01mis\u001b[39;00m \u001b[38;5;28;01mNone\u001b[39;00m:\n\u001b[0;32m--> 274\u001b[0m     ret \u001b[38;5;241m=\u001b[39m _unique1d(ar, return_index, return_inverse, return_counts, \n\u001b[1;32m    275\u001b[0m                     equal_nan\u001b[38;5;241m=\u001b[39mequal_nan)\n\u001b[1;32m    276\u001b[0m     \u001b[38;5;28;01mreturn\u001b[39;00m _unpack_tuple(ret)\n\u001b[1;32m    278\u001b[0m \u001b[38;5;66;03m# axis was specified and not None\u001b[39;00m\n",
      "File \u001b[0;32m/opt/anaconda3/lib/python3.11/site-packages/numpy/lib/arraysetops.py:336\u001b[0m, in \u001b[0;36m_unique1d\u001b[0;34m(ar, return_index, return_inverse, return_counts, equal_nan)\u001b[0m\n\u001b[1;32m    334\u001b[0m     aux \u001b[38;5;241m=\u001b[39m ar[perm]\n\u001b[1;32m    335\u001b[0m \u001b[38;5;28;01melse\u001b[39;00m:\n\u001b[0;32m--> 336\u001b[0m     ar\u001b[38;5;241m.\u001b[39msort()\n\u001b[1;32m    337\u001b[0m     aux \u001b[38;5;241m=\u001b[39m ar\n\u001b[1;32m    338\u001b[0m mask \u001b[38;5;241m=\u001b[39m np\u001b[38;5;241m.\u001b[39mempty(aux\u001b[38;5;241m.\u001b[39mshape, dtype\u001b[38;5;241m=\u001b[39mnp\u001b[38;5;241m.\u001b[39mbool_)\n",
      "\u001b[0;31mTypeError\u001b[0m: '<' not supported between instances of 'NoneType' and 'int'"
     ]
    }
   ],
   "source": [
    "\n",
    "A = np.array([1, 3, 5, None])\n",
    "B = np.array([0, 2, 3, None])\n",
    "\n",
    "# union of two arrays\n",
    "result = np.union1d(A, B)\n",
    "\n",
    "print(result)  "
   ]
  },
  {
   "cell_type": "code",
   "execution_count": 66,
   "id": "529716b2-26a3-4b96-b2a4-25e5b6a25cef",
   "metadata": {},
   "outputs": [
    {
     "name": "stdout",
     "output_type": "stream",
     "text": [
      "[0 1 2 3 4 5 6 7 8 9]\n"
     ]
    }
   ],
   "source": [
    "\n",
    "A = np.array([[1, 3, 5],[2,3,4],[8,3,0]])\n",
    "B = np.array([[0, 2, 3],[9,7,6],[4,4,4]])\n",
    "\n",
    "# union of two arrays\n",
    "result = np.union1d(A, B)\n",
    "\n",
    "print(result)  "
   ]
  },
  {
   "cell_type": "code",
   "execution_count": 147,
   "id": "ad372f5c-3e91-4777-a45f-3945fc2ea966",
   "metadata": {},
   "outputs": [
    {
     "name": "stdout",
     "output_type": "stream",
     "text": [
      "[1 3 5 1]\n",
      "[0.  2.  3.  1.1]\n",
      "[0.  1.  1.1 2.  3.  5. ]\n"
     ]
    }
   ],
   "source": [
    "A = np.array([1, 3, 5, 1.1], dtype='int')\n",
    "B = np.array([0, 2, 3, 1.1],dtype='float')\n",
    "\n",
    "# intersection of two arrays\n",
    "#result = np.intersect1d(A, B)\n",
    "print(A)\n",
    "print(B)\n",
    "#print(result)  \n",
    "\n",
    "result = np.union1d(B,A)\n",
    "\n",
    "print(result)  "
   ]
  },
  {
   "cell_type": "code",
   "execution_count": 134,
   "id": "617c91db-0fe9-4d0b-a607-e78331d34eef",
   "metadata": {},
   "outputs": [],
   "source": []
  },
  {
   "cell_type": "code",
   "execution_count": 17,
   "id": "0511c21c-d717-4239-86ec-85a603b9736b",
   "metadata": {},
   "outputs": [
    {
     "name": "stdout",
     "output_type": "stream",
     "text": [
      "[1 5]\n",
      "[0 2]\n"
     ]
    }
   ],
   "source": [
    "A = np.array([1, 3, 5])\n",
    "B = np.array([0, 2, 3])\n",
    "\n",
    "# difference of two arrays\n",
    "result = np.setdiff1d(A, B)\n",
    "\n",
    "print(result)  \n",
    "\n",
    "result = np.setdiff1d(B, A)\n",
    "\n",
    "print(result)  "
   ]
  },
  {
   "cell_type": "code",
   "execution_count": 118,
   "id": "e7b084a9-4100-480a-b79a-f6a4ca6a1657",
   "metadata": {},
   "outputs": [
    {
     "name": "stdout",
     "output_type": "stream",
     "text": [
      "[0 1 2 5]\n"
     ]
    }
   ],
   "source": [
    "A = np.array([1, 3, 5])\n",
    "B = np.array([0, 2, 3])\n",
    "\n",
    "result = np.setxor1d(A, B)\n",
    "\n",
    "print(result)  "
   ]
  },
  {
   "cell_type": "code",
   "execution_count": 19,
   "id": "aa02fc62-ae79-42ba-8f11-7bdd2306d8fd",
   "metadata": {},
   "outputs": [
    {
     "name": "stdout",
     "output_type": "stream",
     "text": [
      "[1 2 3 4 5 7]\n"
     ]
    }
   ],
   "source": [
    "array1 = np.array([1,1, 2, 2, 4, 7, 7, 3, 5, 2, 5])\n",
    "\n",
    "# unique values from array1\n",
    "result = np.unique(array1)\n",
    "\n",
    "print(result)  "
   ]
  },
  {
   "cell_type": "code",
   "execution_count": 126,
   "id": "fde69d73-1ed9-44d8-a31d-636cbf5f4053",
   "metadata": {},
   "outputs": [
    {
     "name": "stdout",
     "output_type": "stream",
     "text": [
      "[-4  1  2  3  5  6  7  8]\n"
     ]
    }
   ],
   "source": [
    "array1 = np.array([3, 2, 6, 1, 8, 5, 7, -4])\n",
    "\n",
    "print(np.sort(array1))\n"
   ]
  },
  {
   "cell_type": "code",
   "execution_count": 127,
   "id": "3820eddb-aa43-4bb2-8605-5d3088a78f13",
   "metadata": {},
   "outputs": [
    {
     "name": "stdout",
     "output_type": "stream",
     "text": [
      "[7 3 1 0 5 2 6 4]\n",
      "[-4  1  2  3  5  6  7  8]\n",
      "[ 8  7  6  5  3  2  1 -4]\n",
      "[ 8  7  6  5  3  2  1 -4]\n"
     ]
    }
   ],
   "source": [
    "array1 = np.array([3, 2, 6, 1, 8, 5, 7, -4])\n",
    "\n",
    "\n",
    "sorted_array = array1[np.argsort(array1)]\n",
    "print(np.argsort(array1))\n",
    "print(sorted_array)\n",
    "\n",
    "\n",
    "sorted_array = array1[np.argsort(-array1)]\n",
    "\n",
    "print(sorted_array)\n",
    "\n",
    "# Output: [8 7 6 5 4 3 2 1]\n",
    "\n",
    "print(-np.sort(-array1))"
   ]
  },
  {
   "cell_type": "markdown",
   "id": "9edb2f7d-5584-4e05-97d0-e341c3313f19",
   "metadata": {},
   "source": [
    "5.boolean index"
   ]
  },
  {
   "cell_type": "code",
   "execution_count": 121,
   "id": "bf9c0110-6316-4b71-9553-a3460657ffa5",
   "metadata": {},
   "outputs": [
    {
     "name": "stdout",
     "output_type": "stream",
     "text": [
      "[False  True False  True False  True False  True False]\n",
      "[2 4 6 8]\n"
     ]
    }
   ],
   "source": [
    "# create an array of numbers\n",
    "array1 = np.array([1, 2, 3 ,4, 5, 6, 7, 8, 9])\n",
    "\n",
    "# create a boolean mask\n",
    "boolean_mask = array1 % 2 == 0\n",
    "\n",
    "print(boolean_mask)\n",
    "# boolean indexing to filter the odd numbers\n",
    "result = array1[boolean_mask]\n",
    "\n",
    "print(result)"
   ]
  },
  {
   "cell_type": "code",
   "execution_count": 78,
   "id": "4e13c0e4-b4fb-4c39-bc09-98c03ef2cf56",
   "metadata": {},
   "outputs": [
    {
     "name": "stdout",
     "output_type": "stream",
     "text": [
      "[1 0 3 0 5 0 7 0 9]\n"
     ]
    }
   ],
   "source": [
    "# make a copy of the array\n",
    "numbers_copy = array1.copy()\n",
    "\n",
    "# change all even numbers to 0 in the copy\n",
    "numbers_copy[array1 % 2 == 0] = 0\n",
    "\n",
    "# print the modified copy\n",
    "print(numbers_copy)\n",
    "\n",
    "# Output: [1 0 3 0 5 0 7 0 9 0]"
   ]
  },
  {
   "cell_type": "code",
   "execution_count": 98,
   "id": "1b565be5-4195-4268-86ae-bd6c97c5c79c",
   "metadata": {},
   "outputs": [
    {
     "name": "stdout",
     "output_type": "stream",
     "text": [
      "[[False False False]\n",
      " [ True  True  True]\n",
      " [ True  True  True]]\n",
      "[14 19 21 25 29 35]\n",
      "[[1 7 9]\n",
      " [0 0 0]\n",
      " [0 0 0]]\n"
     ]
    }
   ],
   "source": [
    "# create a 2D  array\n",
    "array1 = np.array([[1, 7, 9], \n",
    "                    [14, 19, 21], \n",
    "                    [25, 29, 35]])\n",
    "\n",
    "# create a boolean mask based on the condition \n",
    "# that elements are greater than 9\n",
    "boolean_mask = array1 > 9\n",
    "\n",
    "print(boolean_mask)\n",
    "# select only the elements that satisfy the condition\n",
    "result = array1[boolean_mask]\n",
    "\n",
    "print(result)\n",
    "\n",
    "array1[boolean_mask] = 0\n",
    "\n",
    "print(array1)"
   ]
  },
  {
   "cell_type": "code",
   "execution_count": 94,
   "id": "23a56cda-f112-4eba-9e4f-05d07adf88a8",
   "metadata": {},
   "outputs": [
    {
     "data": {
      "text/plain": [
       "(array([1, 1, 1, 2, 2, 2]), array([0, 1, 2, 0, 1, 2]))"
      ]
     },
     "execution_count": 94,
     "metadata": {},
     "output_type": "execute_result"
    }
   ],
   "source": [
    "array1 = np.array([[1, 7, 9], \n",
    "                    [14, 19, 21], \n",
    "                    [25, 29, 35]])\n",
    "np.where(array1 > 9)"
   ]
  },
  {
   "cell_type": "markdown",
   "id": "912f7c44-5504-4796-943b-c2503bdcf124",
   "metadata": {},
   "source": [
    "6. fancy index"
   ]
  },
  {
   "cell_type": "code",
   "execution_count": 122,
   "id": "f19858be-bdfc-44e6-a828-813dc9d764d5",
   "metadata": {},
   "outputs": [
    {
     "name": "stdout",
     "output_type": "stream",
     "text": [
      "[2 3 6 8]\n"
     ]
    }
   ],
   "source": [
    "# create a numpy array\n",
    "array1 = np.array([1, 2, 3, 4, 5, 6, 7, 8])\n",
    "\n",
    "# select elements at index 1, 2, 5, 7\n",
    "select_elements = array1[[1, 2, 5, 7]]\n",
    "\n",
    "print(select_elements)"
   ]
  },
  {
   "cell_type": "code",
   "execution_count": 103,
   "id": "42e0a695-1c52-4299-8877-52795610b3ed",
   "metadata": {},
   "outputs": [
    {
     "name": "stdout",
     "output_type": "stream",
     "text": [
      "[-4  1  2  3  5  6  7  8]\n",
      "[ 8  7  6  5  3  2  1 -4]\n"
     ]
    }
   ],
   "source": []
  },
  {
   "cell_type": "code",
   "execution_count": 125,
   "id": "ad764b7d-7a77-4d1b-b606-21b424ffd70f",
   "metadata": {},
   "outputs": [
    {
     "name": "stdout",
     "output_type": "stream",
     "text": [
      "[7 3 1 0 5 2 6 4]\n",
      "[-4  1  2  3  5  6  7  8]\n",
      "[ 8  7  6  5  3  2  1 -4]\n",
      "[ 8  7  6  5  3  2  1 -4]\n"
     ]
    }
   ],
   "source": []
  },
  {
   "cell_type": "code",
   "execution_count": 43,
   "id": "a0268fef-7cbe-4a6b-965a-de8497a7a495",
   "metadata": {},
   "outputs": [
    {
     "name": "stdout",
     "output_type": "stream",
     "text": [
      "[ 3 10  6 20  8  5 30  4]\n"
     ]
    }
   ],
   "source": [
    "array1 = np.array([3, 2, 6, 1, 8, 5, 7, 4])\n",
    "\n",
    "# create a list of indices to assign new values\n",
    "indices = [1, 3, 6]\n",
    "\n",
    "# create a new array of values to assign\n",
    "new_values = [10, 20, 30]\n",
    "\n",
    "# use fancy indexing to assign new values to specific elements\n",
    "array1[indices] = new_values\n",
    "\n",
    "print(array1)\n",
    "\n",
    "# Output: [ 3 10  6 20  8  5 30  4]"
   ]
  },
  {
   "cell_type": "code",
   "execution_count": 56,
   "id": "aa094301-500d-451d-bd90-4b01189c9444",
   "metadata": {},
   "outputs": [
    {
     "name": "stdout",
     "output_type": "stream",
     "text": [
      "[[ 1  3  5]\n",
      " [13 18 29]]\n"
     ]
    }
   ],
   "source": [
    "# create a 2D array\n",
    "array1 = np.array([[1, 3, 5], \n",
    "                [11, 7, 9], \n",
    "                [13, 18, 29]])\n",
    "\n",
    "# create an array of row indices\n",
    "row_indices = np.array([0, 2])\n",
    "\n",
    "# use fancy indexing to select specific rows\n",
    "selected_rows = array1[row_indices]\n",
    "\n",
    "print(selected_rows)"
   ]
  },
  {
   "cell_type": "code",
   "execution_count": 124,
   "id": "5c650aee-c806-4ec4-8719-141486405e90",
   "metadata": {},
   "outputs": [
    {
     "name": "stdout",
     "output_type": "stream",
     "text": [
      "[1 5 9]\n"
     ]
    }
   ],
   "source": [
    "a = np.array([[1,2,3],\n",
    "              [4,5,6],\n",
    "              [7,8,9]])\n",
    "b = a[[0,1,2],\n",
    "      [0,1,2]]\n",
    "print(b)"
   ]
  },
  {
   "cell_type": "code",
   "execution_count": 91,
   "id": "b2c8e75d-4dfb-43b3-abd3-db6e2761f092",
   "metadata": {},
   "outputs": [
    {
     "name": "stdout",
     "output_type": "stream",
     "text": [
      "(1, 5, 3)\n"
     ]
    }
   ],
   "source": [
    "print(np.unravel_index(99,(6,7,8)))"
   ]
  },
  {
   "cell_type": "code",
   "execution_count": 107,
   "id": "d269219e-165a-428d-951e-4bdd1de70bab",
   "metadata": {},
   "outputs": [
    {
     "data": {
      "image/png": "[encoded data removed]",
      "text/plain": [
       "<Figure size 640x480 with 1 Axes>"
      ]
     },
     "metadata": {},
     "output_type": "display_data"
    },
    {
     "name": "stdout",
     "output_type": "stream",
     "text": [
      "         3          2\n",
      "0.08704 x - 0.8135 x + 1.693 x - 0.03968\n",
      "           5         4         3         2\n",
      "-0.008333 x + 0.125 x - 0.575 x + 0.625 x + 0.6333 x + 4.351e-15\n"
     ]
    }
   ],
   "source": [
    "import matplotlib.pyplot as plt \n",
    "import numpy as np\n",
    "\n",
    "x = np.array([0.0, 1.0, 2.0, 3.0, 4.0, 5.0])\n",
    "y = np.array([0.0, 0.8, 0.9, 0.1, -0.8, -1.0])\n",
    "#得到多项式的系数\n",
    "z = np.polyfit(x, y, 3)\n",
    "z2 = np.polyfit(x, y, 5)\n",
    "#得到多项式函数\n",
    "f = np.poly1d(z)\n",
    "f2 = np.poly1d(z2)\n",
    "#用两个函数进行拟合\n",
    "xval = np.linspace(0, 10, 50)\n",
    "yval1 = f(xval)\n",
    "yval2 = f2(xval)\n",
    "#作图\n",
    "plt.plot(xval, yval1, 'r--o', xval, yval2, 'b-o')\n",
    "plt.legend(['The deg is 3', 'The deg is 5'])\n",
    "plt.show()\n",
    "\n",
    "print(f) \n",
    "print(f2)"
   ]
  },
  {
   "cell_type": "code",
   "execution_count": null,
   "id": "2a189f92-5d4c-48f2-9967-d281ac3fa5f5",
   "metadata": {},
   "outputs": [],
   "source": []
  }
 ],
 "metadata": {
  "kernelspec": {
   "display_name": "Python 3 (ipykernel)",
   "language": "python",
   "name": "python3"
  },
  "language_info": {
   "codemirror_mode": {
    "name": "ipython",
    "version": 3
   },
   "file_extension": ".py",
   "mimetype": "text/x-python",
   "name": "python",
   "nbconvert_exporter": "python",
   "pygments_lexer": "ipython3",
   "version": "3.11.7"
  }
 },
 "nbformat": 4,
 "nbformat_minor": 5
}
