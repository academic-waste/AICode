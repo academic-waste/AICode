{
 "cells": [
  {
   "cell_type": "code",
   "execution_count": 13,
   "id": "3ec6274f-3e3a-40c9-8f77-041cfcbecfe2",
   "metadata": {},
   "outputs": [],
   "source": [
    "import numpy as np"
   ]
  },
  {
   "cell_type": "code",
   "execution_count": 36,
   "id": "1f6b43d9-ccb6-453d-9ef6-bc5dd7b6319b",
   "metadata": {},
   "outputs": [
    {
     "name": "stdout",
     "output_type": "stream",
     "text": [
      "-117.00000000000003\n"
     ]
    }
   ],
   "source": [
    "\n",
    "A = np.array([[1,4,5],\n",
    "              [9,2,4],\n",
    "              [3,5,10]])\n",
    "print(np.linalg.det(A))"
   ]
  },
  {
   "cell_type": "code",
   "execution_count": 34,
   "id": "165a198a-8ddc-4789-a477-c48ed84a5ad1",
   "metadata": {},
   "outputs": [
    {
     "name": "stdout",
     "output_type": "stream",
     "text": [
      "[[-2.   1. ]\n",
      " [ 1.5 -0.5]]\n"
     ]
    }
   ],
   "source": [
    "A = np.array([[1, 2],\n",
    "              [3, 4]])\n",
    "A_inv = np.linalg.inv(A)\n",
    "print(A_inv)"
   ]
  },
  {
   "cell_type": "code",
   "execution_count": 37,
   "id": "e00fc43b-e720-488f-a14c-91106502e571",
   "metadata": {},
   "outputs": [
    {
     "name": "stdout",
     "output_type": "stream",
     "text": [
      "EigResult(eigenvalues=array([-3., -1.]), eigenvectors=array([[-0.70710678, -0.4472136 ],\n",
      "       [-0.70710678, -0.89442719]]))\n"
     ]
    }
   ],
   "source": [
    "A = np.array([[-5,2],\n",
    "              [-4,1]])\n",
    "print(np.linalg.eig(A))"
   ]
  },
  {
   "cell_type": "code",
   "execution_count": 40,
   "id": "4567bb56-04ab-4938-8d97-ea3a7efea7f2",
   "metadata": {},
   "outputs": [
    {
     "name": "stdout",
     "output_type": "stream",
     "text": [
      "2\n",
      "1\n"
     ]
    }
   ],
   "source": [
    "A = np.array([[1, 2], \n",
    "              [3, 4]])\n",
    "print(np.linalg.matrix_rank(A))\n",
    "\n",
    "A = np.array([[1,2], \n",
    "              [1,2]])\n",
    "print(np.linalg.matrix_rank(A))"
   ]
  },
  {
   "cell_type": "code",
   "execution_count": null,
   "id": "85bfb612-5b7d-450f-8728-e8ccdc8d0b6e",
   "metadata": {},
   "outputs": [],
   "source": []
  }
 ],
 "metadata": {
  "kernelspec": {
   "display_name": "Python 3 (ipykernel)",
   "language": "python",
   "name": "python3"
  },
  "language_info": {
   "codemirror_mode": {
    "name": "ipython",
    "version": 3
   },
   "file_extension": ".py",
   "mimetype": "text/x-python",
   "name": "python",
   "nbconvert_exporter": "python",
   "pygments_lexer": "ipython3",
   "version": "3.11.7"
  }
 },
 "nbformat": 4,
 "nbformat_minor": 5
}
